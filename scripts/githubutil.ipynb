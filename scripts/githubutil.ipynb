{
 "cells": [
  {
   "cell_type": "code",
   "execution_count": null,
   "id": "efb63ba5",
   "metadata": {},
   "outputs": [],
   "source": [
    "import os\n",
    "from dotenv import load_dotenv\n",
    "import requests\n",
    "import json\n",
    "load_dotenv()\n",
    "token = os.getenv('GITHUB_API_KEY')\n",
    "print(token)"
   ]
  },
  {
   "cell_type": "code",
   "execution_count": 3,
   "id": "f59780b3",
   "metadata": {},
   "outputs": [],
   "source": [
    "headers={\n",
    "    \"Authorization\": \"token {}\" .format(token)\n",
    "}\n",
    "\n",
    "data= {\n",
    "    \"title\" : \"Found a problem with indenting\"\n",
    "}"
   ]
  },
  {
   "cell_type": "code",
   "execution_count": 5,
   "id": "73f94d3a",
   "metadata": {},
   "outputs": [
    {
     "name": "stdout",
     "output_type": "stream",
     "text": [
      "https://api.github.com/repos/bhoomi2211/sample-repo/issues\n",
      "Created\n"
     ]
    }
   ],
   "source": [
    "username= input(\"Enter your Github username : \")\n",
    "RepositoryName=input(\"Enter the name of the Repository in  which you want to create an issue : \")\n",
    "url=\"https://api.github.com/repos/{}/{}/issues\".format(username,RepositoryName)\n",
    "print(url)\n",
    "response = requests.post(url , data=json.dumps(data),headers=headers)\n",
    "print(response.reason)"
   ]
  },
  {
   "cell_type": "code",
   "execution_count": null,
   "id": "5a15ca76",
   "metadata": {},
   "outputs": [],
   "source": []
  }
 ],
 "metadata": {
  "kernelspec": {
   "display_name": "base",
   "language": "python",
   "name": "python3"
  },
  "language_info": {
   "codemirror_mode": {
    "name": "ipython",
    "version": 3
   },
   "file_extension": ".py",
   "mimetype": "text/x-python",
   "name": "python",
   "nbconvert_exporter": "python",
   "pygments_lexer": "ipython3",
   "version": "3.12.7"
  }
 },
 "nbformat": 4,
 "nbformat_minor": 5
}
